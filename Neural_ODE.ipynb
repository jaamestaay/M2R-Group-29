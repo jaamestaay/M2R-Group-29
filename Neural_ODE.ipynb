{
 "cells": [
  {
   "cell_type": "code",
   "execution_count": null,
   "metadata": {},
   "outputs": [],
   "source": [
    "using DifferentialEquations, DiffEqFlux, Lux, Random, Optimization,\n",
    "      OptimizationOptimisers, ComponentArrays, Zygote, Statistics, Images\n",
    "using MLDatasets: MNIST\n",
    "imgs, nums = MNIST().features, MNIST().targets\n",
    "function onehot(nums::AbstractVector)\n",
    "    n = length(nums)\n",
    "    ret = zeros(Int, 10, n)\n",
    "    for j = 1:n\n",
    "        ret[nums[j]+1, j] = 1\n",
    "    end\n",
    "    ret\n",
    "end\n",
    "down = Chain(FlattenLayer(), Dense(784, 20, tanh))\n",
    "rng = MersenneTwister()\n",
    "down_p, down_st = Lux.setup(rng, down)\n",
    "nn = Chain(Dense(20, 10, tanh), Dense(10, 10, tanh), Dense(10, 20, tanh))\n",
    "nn_ode = NeuralODE(nn, (0.0f0, 1.0f0), Tsit5(); save_everystep = false,\n",
    "                   reltol = 1e-3, abstol = 1e-3, save_start = false)\n",
    "fc = Dense(20, 10)\n",
    "m = Chain(; down, nn_ode, convert = WrappedFunction(last), fc)\n",
    "ps, st = Lux.setup(rng, m)\n",
    "ps = ComponentArray(ps)\n",
    "logitcrossentropy(ŷ, y) = mean(-sum(y .* logsoftmax(ŷ; dims = 1); dims = 1))\n",
    "function loss_function(ps, x, y)\n",
    "    pred, st_ = m(x, ps, st)\n",
    "    return logitcrossentropy(pred, y), pred\n",
    "end\n",
    "opt_func = OptimizationFunction((ps, _, x, y) -> loss_function(ps, x, y),\n",
    "                                AutoZygote())\n",
    "opt_prob = OptimizationProblem(opt_func, ps)\n",
    "const N = 100\n",
    "M = length(nums) ÷ N - 1\n",
    "data = [(imgs[:, :, N*(b-1)+1:N*b], onehot(nums[N*(b-1)+1:N*b])) for b = 1:M]\n",
    "res = solve(opt_prob, Adam(0.003), data)\n",
    "classify(x) = [argmax(x[:,j]) - 1 for j = 1:size(x,2)]\n",
    "sum(classify(m(imgs[:,:,end-N+1:end], res.u, st)[1]) .== nums[end-N+1:end])/N"
   ]
  }
 ],
 "metadata": {
  "kernelspec": {
   "display_name": "Julia 1.10.0",
   "language": "julia",
   "name": "julia-1.10"
  },
  "language_info": {
   "file_extension": ".jl",
   "mimetype": "application/julia",
   "name": "julia",
   "version": "1.10.0"
  }
 },
 "nbformat": 4,
 "nbformat_minor": 2
}
