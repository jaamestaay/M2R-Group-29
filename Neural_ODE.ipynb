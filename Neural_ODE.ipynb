{
 "cells": [
  {
   "cell_type": "code",
   "execution_count": 2,
   "metadata": {},
   "outputs": [
    {
     "name": "stdout",
     "output_type": "stream",
     "text": [
      "  8.105775 seconds (7.58 M allocations: 7.300 GiB, 13.02% gc time, 18.41% compilation time: 7% of which was recompilation)\n"
     ]
    },
    {
     "data": {
      "text/plain": [
       "0.98"
      ]
     },
     "metadata": {},
     "output_type": "display_data"
    }
   ],
   "source": [
    "using DifferentialEquations, DiffEqFlux, Lux, Random, Optimization, OptimizationOptimisers, ComponentArrays, Zygote, Statistics\n",
    "using MLDatasets: MNIST\n",
    "\n",
    "imgs, nums = MNIST().features, MNIST().targets\n",
    "\n",
    "function onehot(nums::AbstractVector)\n",
    "    n = length(nums)\n",
    "    ret = zeros(Int, 10, n)\n",
    "    for j = 1:n\n",
    "        ret[nums[j]+1, j] = 1\n",
    "    end\n",
    "    ret\n",
    "end\n",
    "\n",
    "down = Chain(FlattenLayer(), Dense(784, 20, tanh))\n",
    "rng = MersenneTwister()\n",
    "down_p, down_st = Lux.setup(rng, down)\n",
    "\n",
    "nn = Chain(Dense(20, 10, tanh), Dense(10, 10, tanh), Dense(10, 20, tanh))\n",
    "nn_ode = NeuralODE(nn, (0.0f0, 1.0f0), Tsit5(); save_everystep = false, reltol = 1e-3, abstol = 1e-3, save_start = false)\n",
    "fc = Dense(20, 10)\n",
    "m = Chain(; down, nn_ode, convert = WrappedFunction(last), fc)\n",
    "ps, st = Lux.setup(rng, m)\n",
    "ps = ComponentArray(ps)\n",
    "\n",
    "logitcrossentropy(ŷ, y) = mean(-sum(y .* logsoftmax(ŷ; dims = 1); dims = 1))\n",
    "function loss_function(ps, x, y)\n",
    "    pred, st_ = m(x, ps, st)\n",
    "    return logitcrossentropy(pred, y), pred\n",
    "end\n",
    "\n",
    "opt_func = OptimizationFunction((ps, _, x, y) -> loss_function(ps, x, y), AutoZygote())\n",
    "opt_prob = OptimizationProblem(opt_func, ps)\n",
    "\n",
    "const N = 100\n",
    "M = length(nums) ÷ N - 1\n",
    "data = [(imgs[:, :, N*(b-1)+1:N*b], onehot(nums[N*(b-1)+1:N*b])) for b = 1:M]\n",
    "\n",
    "@time res = solve(opt_prob, Adam(0.003), data)\n",
    "\n",
    "classify(x) = [argmax(x[:,j]) - 1 for j = 1:size(x,2)]\n",
    "sum(classify(m(imgs[:,:,end-N+1:end], res.u, st)[1]) .== nums[end-N+1:end])/N"
   ]
  }
 ],
 "metadata": {
  "kernelspec": {
   "display_name": "Julia 1.10.0",
   "language": "julia",
   "name": "julia-1.10"
  },
  "language_info": {
   "file_extension": ".jl",
   "mimetype": "application/julia",
   "name": "julia",
   "version": "1.10.0"
  }
 },
 "nbformat": 4,
 "nbformat_minor": 2
}
