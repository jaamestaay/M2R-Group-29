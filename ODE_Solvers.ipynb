{
 "cells": [
  {
   "cell_type": "code",
   "execution_count": null,
   "metadata": {},
   "outputs": [],
   "source": [
    "using DifferentialEquations, Plots"
   ]
  },
  {
   "cell_type": "code",
   "execution_count": null,
   "metadata": {},
   "outputs": [],
   "source": [
    "# Define the Problem\n",
    "function ode_problem!(dx, x, p, t)\n",
    "    dx[1] = cos(t) * x[1]\n",
    "end\n",
    "u0 = [1.0]\n",
    "T = 10.0\n",
    "tspan = (0.0, T)\n",
    "prob = ODEProblem(ode_problem!, u0, tspan)\n",
    "times = 0:0.1:T\n",
    "\n",
    "# Actual Solution\n",
    "actualsol = exp.(sin.(times))\n",
    "plot(times, actualsol, marker=:+, label=\"Solution\", title=\"Numerical Approximations of Solutions to ODE\")\n",
    "\n",
    "# Euler's Method\n",
    "euler = solve(prob, Euler(), tstops=times)\n",
    "plot!(euler, label=\"Euler\")\n",
    "\n",
    "# RK4\n",
    "rk4 = solve(prob, RK4(), tstops=times)\n",
    "rk4_discrete = [rk4(time)[1] for time in times]\n",
    "plot!(times, rk4_discrete, marker=:\"circle\", markersize=:2, label=\"RK4\")\n",
    "\n",
    "# Vern9\n",
    "vern9 = solve(prob, Vern9(), tstops=times)\n",
    "vern9_discrete = [vern9(time)[1] for time in times]\n",
    "plot!(times, vern9_discrete, label=\"Vern9\")"
   ]
  },
  {
   "cell_type": "code",
   "execution_count": null,
   "metadata": {},
   "outputs": [],
   "source": [
    "# Calculating Error of Approximation, assuming both actual and predicted measure the function at same times\n",
    "function loss_function(actual, predicted)\n",
    "    sum(abs.(actual .- predicted))\n",
    "end\n",
    "println(\"Sum of Errors of Euler approximation: \", loss_function(actualsol, euler))\n",
    "println(\"Sum of Errors of RK4 approximation: \", loss_function(actualsol, rk4_discrete))\n",
    "println(\"Sum of Errors of Vern9 approximation: \", loss_function(actualsol, vern9_discrete))"
   ]
  }
 ],
 "metadata": {
  "kernelspec": {
   "display_name": "Julia 1.10.0",
   "language": "julia",
   "name": "julia-1.10"
  },
  "language_info": {
   "file_extension": ".jl",
   "mimetype": "application/julia",
   "name": "julia",
   "version": "1.10.0"
  }
 },
 "nbformat": 4,
 "nbformat_minor": 2
}
