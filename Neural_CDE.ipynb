{
 "cells": [
  {
   "cell_type": "code",
   "execution_count": null,
   "metadata": {
    "vscode": {
     "languageId": "julia"
    }
   },
   "outputs": [],
   "source": [
    "using DataFrames, CSV, Plots\n",
    "amzn = CSV.read(\".../AMZN.csv\", DataFrame)\n",
    "p1 = plot(amzn.\"Date\", amzn.\"Adj Close\", title=\"Original Time Series\n",
    "Data\", legend=:topright)\n",
    "using Statistics\n",
    "function min_max_scaling(column)\n",
    "    min_val = minimum(column)\n",
    "    max_val = maximum(column)\n",
    "    return (column .- min_val) ./ (max_val .- min_val)\n",
    "end\n",
    "amzn_norm = copy(amzn)\n",
    "for col in names(amzn_norm)\n",
    "    if eltype(amzn_norm[!, col]) <: Number\n",
    "        amzn_norm[!, col] = min_max_scaling(amzn_norm[!, col])\n",
    "    end\n",
    "end\n",
    "\n",
    "using Dates\n",
    "dates = amzn_norm.\"Date\"\n",
    "print(dates)\n",
    "adj_close = amzn_norm.\"Adj Close\"\n",
    "output_date_format = DateFormat(\"yyyy/mm/dd\")\n",
    "function parse_mixed_date(date_str)\n",
    "    date_parsed = nothing\n",
    "    try\n",
    "        date_parsed = Date(date_str, DateFormat(\"m/d/yyyy\"))\n",
    "    catch\n",
    "    end\n",
    "    if isnothing(date_parsed)\n",
    "        try\n",
    "            date_parsed = Date(date_str, DateFormat(\"m/dd/yyyy\"))\n",
    "        catch\n",
    "        end\n",
    "    end\n",
    "    return date_parsed\n",
    "end\n",
    "formatted_dates = [Dates.format(parse_mixed_date(date), \n",
    "    output_date_format) for date in dates]\n",
    "Formatted_dates = Date.(formatted_dates, output_date_format)\n",
    "init_date = Formatted_dates[1]\n",
    "rel_dates = []\n",
    "for x in Formatted_dates\n",
    "    x = x - init_date\n",
    "    push!(rel_dates, Dates.value(x))\n",
    "end\n",
    "\n",
    "using DataInterpolations\n",
    "time_series = collect(zip(rel_dates, adj_close))\n",
    "cubic_spline_t = DataInterpolations.CubicSpline(rel_dates, rel_dates)\n",
    "cubic_spline_p = DataInterpolations.CubicSpline(adj_close, rel_dates)\n",
    "function cubic_spline(t)\n",
    "    return (cubic_spline_t(t), cubic_spline_p(t))\n",
    "end"
   ]
  }
 ],
 "metadata": {
  "language_info": {
   "name": "python"
  }
 },
 "nbformat": 4,
 "nbformat_minor": 2
}
