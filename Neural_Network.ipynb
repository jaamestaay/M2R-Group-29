{
 "cells": [
  {
   "cell_type": "code",
   "execution_count": null,
   "metadata": {},
   "outputs": [],
   "source": [
    "using Lux, Random, Optimization, OptimizationOptimisers,\n",
    "      ComponentArrays, Zygote, Plots, LinearAlgebra\n",
    "x = range(-pi, pi; length = 100)\n",
    "y = sin.(x)\n",
    "model = Chain(\n",
    "    Dense(1 => 10, relu),\n",
    "    Dense(10 => 10, relu),\n",
    "    Dense(10 => 1)\n",
    ")\n",
    "function regression_loss(ps, (model, st, (x, y)))\n",
    "    return norm(vec(model(x', ps, st)[1]) - y)\n",
    "end\n",
    "ps, st = Lux.setup(MersenneTwister(), model)\n",
    "prob = OptimizationProblem(OptimizationFunction(regression_loss,\n",
    "       Optimization.AutoZygote()), ComponentArray(ps), (model, st, (x, y)))\n",
    "ret = solve(prob, Adam(0.03), maxiters = 250)\n",
    "plot(x, y, label = \"Target\")\n",
    "plot!(x, vec(model(x', ret.u, st)[1]), label = \"Predicted\")"
   ]
  },
  {
   "cell_type": "code",
   "execution_count": null,
   "metadata": {},
   "outputs": [],
   "source": [
    "using Flux\n",
    "using MLDatasets: MNIST\n",
    "x_train, y_train = MNIST(split=:train)[:]\n",
    "x_test, y_test = MNIST(split=:test)[:]\n",
    "x_train_flat = Flux.flatten(x_train)\n",
    "x_test_flat = Flux.flatten(x_test)\n",
    "dataset = [(x_train_flat, Flux.onehotbatch(y_train, 0:9))]\n",
    "model = Chain(\n",
    "    Dense(784, 196, relu),\n",
    "    Dense(196, 49, relu),\n",
    "    Dense(49, 10)\n",
    ")\n",
    "loss(x, y) = Flux.Losses.logitcrossentropy(model(x), y)\n",
    "@time for epoch in 1:25\n",
    "    Flux.train!(loss, Flux.params(model), dataset, Adam(0.003))\n",
    "end\n",
    "sum(Flux.onecold(model(x_test_flat)) .== (y_test .+ 1)) / length(y_test)"
   ]
  }
 ],
 "metadata": {
  "kernelspec": {
   "display_name": "Julia 1.10.0",
   "language": "julia",
   "name": "julia-1.10"
  },
  "language_info": {
   "file_extension": ".jl",
   "mimetype": "application/julia",
   "name": "julia",
   "version": "1.10.0"
  }
 },
 "nbformat": 4,
 "nbformat_minor": 2
}
